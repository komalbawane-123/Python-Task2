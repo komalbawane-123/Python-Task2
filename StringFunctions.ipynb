{
 "cells": [
  {
   "cell_type": "markdown",
   "id": "e2487a8a-dc8a-4a82-a0c1-3e4924280046",
   "metadata": {},
   "source": [
    "Capitalize() : function converts the first character of the string to uppercase and the rest to lowercase"
   ]
  },
  {
   "cell_type": "code",
   "execution_count": 2,
   "id": "c6a1614b-1d23-4f00-816e-722c9b5b4f1b",
   "metadata": {},
   "outputs": [
    {
     "name": "stdout",
     "output_type": "stream",
     "text": [
      "This is my car\n"
     ]
    }
   ],
   "source": [
    "text = \"this is my car\"\n",
    "print(text.capitalize())"
   ]
  },
  {
   "cell_type": "markdown",
   "id": "475fd24c-61fc-4311-afd0-45dc6f6dd803",
   "metadata": {},
   "source": [
    "upper() and lower(): these methods returns a new string with all character converted to uppercase or lowercase ,respectively"
   ]
  },
  {
   "cell_type": "code",
   "execution_count": 7,
   "id": "62603f7c-55a4-4cc5-9623-6304ea896ef5",
   "metadata": {},
   "outputs": [
    {
     "name": "stdout",
     "output_type": "stream",
     "text": [
      "DAIMLER AG\n"
     ]
    }
   ],
   "source": [
    "text = \"Daimler AG\"\n",
    "print(text.upper())"
   ]
  },
  {
   "cell_type": "code",
   "execution_count": 9,
   "id": "3c67a30e-8314-48c9-9ee1-5830090489a2",
   "metadata": {},
   "outputs": [
    {
     "name": "stdout",
     "output_type": "stream",
     "text": [
      "daimler ag\n"
     ]
    }
   ],
   "source": [
    "text = \"Daimler AG\"\n",
    "print(text.lower())"
   ]
  },
  {
   "cell_type": "markdown",
   "id": "3d0cddf6-deb1-40f4-a14e-3d6ef50d5035",
   "metadata": {},
   "source": [
    "strip():This Method removes any leading and trailing whitespace from a string."
   ]
  },
  {
   "cell_type": "code",
   "execution_count": 12,
   "id": "4a6a8c92-f20e-4c24-b2c9-6bf8eacd04f4",
   "metadata": {},
   "outputs": [
    {
     "name": "stdout",
     "output_type": "stream",
     "text": [
      "Daimler AG\n"
     ]
    }
   ],
   "source": [
    "text = \"    Daimler AG     \"\n",
    "print(text.strip())"
   ]
  },
  {
   "cell_type": "markdown",
   "id": "956dc67f-2111-45f6-968c-5dac0a3bf785",
   "metadata": {},
   "source": [
    "replace(old,new):this method returns a new string where all occurences of the old substring are replaced with the new substring"
   ]
  },
  {
   "cell_type": "code",
   "execution_count": 34,
   "id": "317f74fd-2ab5-4cd5-aded-4490b4b5e9da",
   "metadata": {},
   "outputs": [
    {
     "name": "stdout",
     "output_type": "stream",
     "text": [
      "Hello MICROSOFT \n"
     ]
    }
   ],
   "source": [
    "text = \"Hello Power BI \"\n",
    "print(text.replace(\"Power BI\",\"MICROSOFT\"))"
   ]
  },
  {
   "cell_type": "markdown",
   "id": "07627677-cc2a-4ad4-9971-1b3d3fe19d5d",
   "metadata": {},
   "source": [
    "split(separator):this method splits a string into a list of substring based on the specified separator"
   ]
  },
  {
   "cell_type": "code",
   "execution_count": 36,
   "id": "49be0a3e-0ba6-4251-867b-ae61274eae23",
   "metadata": {},
   "outputs": [
    {
     "name": "stdout",
     "output_type": "stream",
     "text": [
      "['New', 'Journey']\n"
     ]
    }
   ],
   "source": [
    "text = \"New Journey\"\n",
    "print(text.split(\" \"))"
   ]
  },
  {
   "cell_type": "markdown",
   "id": "edd3ed54-e5ce-4779-aa56-fdd64d7cca1f",
   "metadata": {},
   "source": [
    "join(iterable):this method joins an iterable of string into a single string with the string as the separator"
   ]
  },
  {
   "cell_type": "code",
   "execution_count": 38,
   "id": "e84ad944-75ad-4ef9-b7aa-e29f7b9c3f45",
   "metadata": {},
   "outputs": [
    {
     "name": "stdout",
     "output_type": "stream",
     "text": [
      "power bi conceived by RON GEORGE\n"
     ]
    }
   ],
   "source": [
    "words = [\"power bi conceived \"  , \"by \" ,\"RON GEORGE\"]\n",
    "#print(words.join(\"words\"))\n",
    "print(\"\".join(words))"
   ]
  },
  {
   "cell_type": "markdown",
   "id": "aaeef18d-046d-4f48-96ec-8aa21e9be973",
   "metadata": {},
   "source": [
    "find(sub):this method returns the lowest index in the string where the substring sub is found"
   ]
  },
  {
   "cell_type": "code",
   "execution_count": 40,
   "id": "3df6b443-e4b6-4f42-8b5f-935b36470ba0",
   "metadata": {},
   "outputs": [
    {
     "name": "stdout",
     "output_type": "stream",
     "text": [
      "11\n"
     ]
    }
   ],
   "source": [
    "text = \"Technology Reference\"\n",
    "print(text.find(\"Reference\"))"
   ]
  },
  {
   "cell_type": "markdown",
   "id": "17ddabf1-7fc4-48db-b0b3-52a1d9194fc1",
   "metadata": {},
   "source": [
    "startswith(prefix) and endswith (suffix): these methods return \"true \"if the string starts or ends with the specified prefix or suffix ,respectively"
   ]
  },
  {
   "cell_type": "code",
   "execution_count": 42,
   "id": "fbe868eb-a9d7-49eb-b8a3-9c7274c79db5",
   "metadata": {},
   "outputs": [
    {
     "name": "stdout",
     "output_type": "stream",
     "text": [
      "True\n",
      "False\n"
     ]
    }
   ],
   "source": [
    "text = \"Hello World\"\n",
    "print(text.startswith(\"Hello\"))\n",
    "print(text.endswith(\"power bi\"))"
   ]
  },
  {
   "cell_type": "markdown",
   "id": "4714ac60-1702-4135-9c16-24a05ecd77c4",
   "metadata": {},
   "source": [
    "casefold(): converts all character of a string to lowercase in a more aggressive mammer than lower()"
   ]
  },
  {
   "cell_type": "code",
   "execution_count": 44,
   "id": "bacb9e18-5818-4065-bef0-1d5f42e94b0f",
   "metadata": {},
   "outputs": [
    {
     "name": "stdout",
     "output_type": "stream",
     "text": [
      "our consonants are all the letters that are not vowels\n"
     ]
    }
   ],
   "source": [
    "text = \"OUR CONSONANTS ARE ALL THE LETTERS THAT ARE NOT VOWELS\"\n",
    "output = text.casefold()\n",
    "\n",
    "print(output)"
   ]
  },
  {
   "cell_type": "markdown",
   "id": "d26656ef-50b5-4e3c-9ad8-0b17c7e39993",
   "metadata": {},
   "source": [
    "all string method returns a new value"
   ]
  },
  {
   "cell_type": "markdown",
   "id": "c95b1f52-a4c8-45b2-bfda-59fbf6166ac7",
   "metadata": {},
   "source": [
    "center():centers the string with a specified width and fills the remaining space with a specified character"
   ]
  },
  {
   "cell_type": "code",
   "execution_count": 48,
   "id": "4cf45029-dcd8-4d1c-9fec-cc68357cdda7",
   "metadata": {},
   "outputs": [
    {
     "name": "stdout",
     "output_type": "stream",
     "text": [
      "**World***\n"
     ]
    }
   ],
   "source": [
    "var = \"World\"\n",
    "result = var.center(10,\"*\")\n",
    "print(result)"
   ]
  },
  {
   "cell_type": "markdown",
   "id": "fb76ce57-f6f5-4ca4-8706-3b46ee9d0fe2",
   "metadata": {},
   "source": [
    "count():returns the number of non overlapping occurences of a substring within the string"
   ]
  },
  {
   "cell_type": "code",
   "execution_count": 56,
   "id": "bc54cb9d-7aa7-4a37-a4c5-f9f1d3effcd2",
   "metadata": {},
   "outputs": [
    {
     "name": "stdout",
     "output_type": "stream",
     "text": [
      "2\n"
     ]
    }
   ],
   "source": [
    "text = 'hello boss!hello'\n",
    "print(text.count('hello'))"
   ]
  },
  {
   "cell_type": "markdown",
   "id": "825290dc-029c-47ee-aac2-0db4e9aa62d6",
   "metadata": {},
   "source": [
    "encode(): encodes the string into bytes using the specified encoding"
   ]
  },
  {
   "cell_type": "code",
   "execution_count": 58,
   "id": "5a263ec1-7f78-4251-8a1a-87923b097220",
   "metadata": {},
   "outputs": [
    {
     "name": "stdout",
     "output_type": "stream",
     "text": [
      "b'Request Pending'\n"
     ]
    }
   ],
   "source": [
    "texc = \"Request Pending\"\n",
    "encoded = texc.encode('utf-8')\n",
    "print(encoded)"
   ]
  },
  {
   "cell_type": "markdown",
   "id": "d3172edb-015f-4835-aea2-0959f793020a",
   "metadata": {},
   "source": [
    "format():it formats the string by substituting placegolders ({}) with specified values"
   ]
  },
  {
   "cell_type": "code",
   "execution_count": 63,
   "id": "cd5c1131-ac11-486a-b3f7-22acbc07735c",
   "metadata": {},
   "outputs": [
    {
     "name": "stdout",
     "output_type": "stream",
     "text": [
      "hello,neeta.please go to the office she is on the way\n"
     ]
    }
   ],
   "source": [
    "text = \"hello,{}.please go to the office {}\"\n",
    "formatted = text.format(\"neeta\",\"she is on the way\")\n",
    "print(formatted)"
   ]
  },
  {
   "cell_type": "markdown",
   "id": "fabe16f1-8076-4ca1-ae3a-bbe542828722",
   "metadata": {},
   "source": [
    "index():returns the index of the first ocuurences of a substring"
   ]
  },
  {
   "cell_type": "code",
   "execution_count": 66,
   "id": "402d820c-0b75-4783-9230-eb2956a6cb0f",
   "metadata": {},
   "outputs": [
    {
     "name": "stdout",
     "output_type": "stream",
     "text": [
      "6\n"
     ]
    }
   ],
   "source": [
    "text = \"index,box\"\n",
    "print(text.index(\"box\"))"
   ]
  },
  {
   "cell_type": "markdown",
   "id": "b46adc4b-1305-4277-a0eb-c8847a7100b3",
   "metadata": {},
   "source": [
    "isnumeric():returns the true if all character isn the string are numeric"
   ]
  },
  {
   "cell_type": "code",
   "execution_count": 69,
   "id": "1b52e7bd-da25-46fe-b0d5-d615770bbacc",
   "metadata": {},
   "outputs": [
    {
     "name": "stdout",
     "output_type": "stream",
     "text": [
      "True\n"
     ]
    }
   ],
   "source": [
    "text = '1234567'\n",
    "is_numeric = text.isnumeric()\n",
    "print(is_numeric)"
   ]
  },
  {
   "cell_type": "markdown",
   "id": "f55a2346-6cd9-4fff-96ae-89974f1ca385",
   "metadata": {},
   "source": [
    "Slicing() : Access a range of characters in a string by using the slicing operator colon :"
   ]
  },
  {
   "cell_type": "code",
   "execution_count": 72,
   "id": "68ea13de-a41e-406e-ace3-cc8f5bb03d63",
   "metadata": {},
   "outputs": [
    {
     "name": "stdout",
     "output_type": "stream",
     "text": [
      "ell\n"
     ]
    }
   ],
   "source": [
    "greet = 'Hello'\n",
    "print(greet[1:4])  # \"ell\""
   ]
  },
  {
   "cell_type": "raw",
   "id": "abf81d52-a4dd-4196-9450-12de7db4c0bb",
   "metadata": {},
   "source": [
    "# access character from 1st index to 3rd index"
   ]
  },
  {
   "cell_type": "code",
   "execution_count": null,
   "id": "122aeaeb-cffd-48c0-bf35-289d7eada09f",
   "metadata": {},
   "outputs": [],
   "source": []
  }
 ],
 "metadata": {
  "kernelspec": {
   "display_name": "Python 3 (ipykernel)",
   "language": "python",
   "name": "python3"
  },
  "language_info": {
   "codemirror_mode": {
    "name": "ipython",
    "version": 3
   },
   "file_extension": ".py",
   "mimetype": "text/x-python",
   "name": "python",
   "nbconvert_exporter": "python",
   "pygments_lexer": "ipython3",
   "version": "3.12.4"
  }
 },
 "nbformat": 4,
 "nbformat_minor": 5
}
